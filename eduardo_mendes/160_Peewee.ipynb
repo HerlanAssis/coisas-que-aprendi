{
  "nbformat": 4,
  "nbformat_minor": 0,
  "metadata": {
    "colab": {
      "name": "#160 - Peewee.ipynb",
      "provenance": [],
      "collapsed_sections": [],
      "toc_visible": true,
      "authorship_tag": "ABX9TyNpAIJBwNeFnv6XMBypR7zG",
      "include_colab_link": true
    },
    "kernelspec": {
      "name": "python3",
      "display_name": "Python 3"
    },
    "language_info": {
      "name": "python"
    }
  },
  "cells": [
    {
      "cell_type": "markdown",
      "metadata": {
        "id": "view-in-github",
        "colab_type": "text"
      },
      "source": [
        "<a href=\"https://colab.research.google.com/github/HerlanAssis/coisas-que-aprendi/blob/main/eduardo_mendes/160_Peewee.ipynb\" target=\"_parent\"><img src=\"https://colab.research.google.com/assets/colab-badge.svg\" alt=\"Open In Colab\"/></a>"
      ]
    },
    {
      "cell_type": "markdown",
      "metadata": {
        "id": "76Os4LuAppxL"
      },
      "source": [
        "# \\[\\#160\\] Coisas que Aprendi com Eduardo Mendes\n",
        "Coisas que aprendi com Eduardo Mendes e como poderia usar esse conhecimento no mundo real?\n",
        "\n",
        "------\n",
        "\n",
        "Na live de python [#160 - Peewee ORM, simplificando banco de dados](https://www.youtube.com/watch?v=fJixdxPOz-E) Eduardo Mender apresentou o Pewee ORM e como é simples trabalhar ele.\n",
        "\n",
        "Depois que assistir o vídeo, fiquei encantado e resolvi aplicar o conhecimento adquirido em caso comum no mundo real.\n",
        "\n",
        "### Tarefa:\n",
        "> Criar e popular um banco de dados relacional a partir de um arquivo CSV.\n",
        "\n",
        "Nesse momento você pode até pensar: \"já existe ferramentas pra isso!\". De fato, existe inúmeras maneiras de fazer isso mas, neste exemplo, vamos utilizar Python, leitura de arquivo e uma ferramenta incrível, o Peewee."
      ]
    },
    {
      "cell_type": "markdown",
      "metadata": {
        "id": "kfSzEXYBr_3m"
      },
      "source": [
        "Temos um arquivos CSV com dados referentes a uma pesquisa direta com o cliente final e queremos estruturar tudo isso no nosso branco de dados. Nosso arquivo CSV tem a seguinte estrutura:\n",
        "\n",
        "|contrato|nome     |data de ativação|data de débito|valor débito|data pagamento|status |foi pago|\n",
        "|--------|---------|----------------|--------------|------------|--------------|-------|--------|\n",
        "|1234    |Cliente 1|24/03/20        |24/01/21      |R\\$ 150,00   |24/03/21      |aberto |não     |\n",
        "|4321    |Cliente 2|24/03/20        |24/01/21      |R\\$ 80,00    |24/03/21      |fechado|sim     |\n",
        "|1598    |Cliente 3|24/03/20        |24/01/21      |R\\$ 75,00    |24/03/21      |aberto |não     |\n",
        "\n",
        "Abstraindo isso, podemos criar pelo menos duas classes, ```Pesquisa``` e ```StatusPesquisa```.\n",
        "\n",
        "Considere as colunas \"contrato\", \"nome\", \"data de ativação\", \"data de débito\", \"valor débito\", \"data pagamento\" como características de uma classe ```Pesquisa``` e as colunas \"status\" e \"foi pago\" como características da classe ```StatusPesquisa```."
      ]
    },
    {
      "cell_type": "markdown",
      "metadata": {
        "id": "V98eHKyxxmBc"
      },
      "source": [
        "vamos criar o nosso csv com a ajuda do *colab magic commands*"
      ]
    },
    {
      "cell_type": "code",
      "metadata": {
        "colab": {
          "base_uri": "https://localhost:8080/"
        },
        "id": "74zWgErTwzTy",
        "outputId": "002827f4-cb8e-48ee-8224-ff48499566b2"
      },
      "source": [
        "%%writefile teste.csv\n",
        "contrato,nome,data de ativação,data de débito,valor débito,data pagamento,status,foi pago\n",
        "1234,Cliente 1,24/03/20,24/01/21,\"R$ 150,00\",24/03/21,aberto,não\n",
        "4321,Cliente 2,24/03/20,24/01/21,\"R$ 80,00\",24/03/21,fechado,sim\n",
        "1598,Cliente 3,24/03/20,24/01/21,\"R$ 75,00\",24/03/21,aberto,não"
      ],
      "execution_count": 1,
      "outputs": [
        {
          "output_type": "stream",
          "text": [
            "Writing teste.csv\n"
          ],
          "name": "stdout"
        }
      ]
    },
    {
      "cell_type": "markdown",
      "metadata": {
        "id": "xRexvsLVxw7v"
      },
      "source": [
        "agora, fazemos a leitura do nosso arquivo csv e criamos uma estrutura simples de trabalhar, uma lista de dicionários. Sendo a uma linha equivalente a uma linha do arquivo csv e o dicionário a o registro dessa linha."
      ]
    },
    {
      "cell_type": "code",
      "metadata": {
        "id": "t-qwwe7gdZj9"
      },
      "source": [
        "import csv\n",
        "\n",
        "map_cols = {\n",
        "    # 'col_name': col_position\n",
        "    'contrato': 0,\n",
        "    'nome': 1,\n",
        "    'data_ativacao': 2,\n",
        "    'data_debito': 3,\n",
        "    'valor_debito': 4,\n",
        "    'data_pagamento': 5,\n",
        "    'status': 6,\n",
        "    'foi_pago': 7\n",
        "}\n",
        "\n",
        "rows = []\n",
        "\n",
        "with open('teste.csv') as csv_file:\n",
        "    csv_reader = csv.reader(csv_file, delimiter=',')\n",
        "    # first line is for headers    \n",
        "    for row in list(csv_reader)[1:]:\n",
        "      new_data = {}\n",
        "      for key, value in map_cols.items():\n",
        "        new_data[key] = row[value]\n",
        "        rows.append(new_data)"
      ],
      "execution_count": 2,
      "outputs": []
    },
    {
      "cell_type": "markdown",
      "metadata": {
        "id": "fsuYUpd8yqJd"
      },
      "source": [
        "Aqui a magia acontece! Instalamos o Peewee através do pip, importamos as bibliotecas necessárias, definimos nossas tabelas utilizando classes e no fim as criamos. Top né?"
      ]
    },
    {
      "cell_type": "code",
      "metadata": {
        "colab": {
          "base_uri": "https://localhost:8080/"
        },
        "id": "24wEmqRAL0uz",
        "outputId": "6f94b16b-90e5-4f22-f713-cf27c629ba99"
      },
      "source": [
        "!pip install peewee\n",
        "\n",
        "from datetime import datetime\n",
        "from peewee import (SqliteDatabase, Model, CharField, BooleanField,\n",
        "                    DateField, FloatField,ForeignKeyField)\n",
        "\n",
        "db = SqliteDatabase('pesquisa.db')\n",
        "\n",
        "\n",
        "class BaseModel(Model):\n",
        "  class Meta:\n",
        "    database = db\n",
        "\n",
        "\n",
        "class StatusPesquisa(BaseModel):\n",
        "    foi_pago = BooleanField()\n",
        "    status = CharField(unique=True)\n",
        "\n",
        "\n",
        "class Pesquisa(BaseModel):\n",
        "  status = ForeignKeyField(StatusPesquisa, backref='pesquisas')\n",
        "  contrato = CharField()\n",
        "  cliente = CharField(unique=True)\n",
        "  data_ativacao = DateField()\n",
        "  data_debito = DateField()\n",
        "  valor_debito = FloatField()\n",
        "\n",
        "\n",
        "db.create_tables([StatusPesquisa, Pesquisa])"
      ],
      "execution_count": 3,
      "outputs": [
        {
          "output_type": "stream",
          "text": [
            "Requirement already satisfied: peewee in /usr/local/lib/python3.7/dist-packages (3.14.4)\n"
          ],
          "name": "stdout"
        },
        {
          "output_type": "stream",
          "text": [
            "/usr/local/lib/python3.7/dist-packages/psycopg2/__init__.py:144: UserWarning: The psycopg2 wheel package will be renamed from release 2.8; in order to keep installing from binary please use \"pip install psycopg2-binary\" instead. For details see: <http://initd.org/psycopg/docs/install.html#binary-install-from-pypi>.\n",
            "  \"\"\")\n"
          ],
          "name": "stderr"
        }
      ]
    },
    {
      "cell_type": "markdown",
      "metadata": {
        "id": "AkX-W5_LzEa6"
      },
      "source": [
        "agora iteramos sobre as nossas linhas e populamos nossas tabelas.\n",
        "\n",
        "PS: não façam isso em produção."
      ]
    },
    {
      "cell_type": "code",
      "metadata": {
        "id": "I2Z3-xgwkI3X"
      },
      "source": [
        "for row in rows:  \n",
        "  try:\n",
        "    StatusPesquisa.create(\n",
        "        foi_pago=row['foi_pago']=='sim',\n",
        "        status=row['status']\n",
        "    )\n",
        "  except:\n",
        "    ...\n",
        "  try:\n",
        "    Pesquisa.create(\n",
        "        status=StatusPesquisa.select().where(StatusPesquisa.status==row['status']),\n",
        "        contrato=row['contrato'],\n",
        "        cliente=row['nome'],\n",
        "        data_ativacao=row['data_ativacao'],\n",
        "        data_debito=row['data_debito'],\n",
        "        valor_debito=row['valor_debito']\n",
        "    )\n",
        "  except:\n",
        "    ..."
      ],
      "execution_count": 4,
      "outputs": []
    },
    {
      "cell_type": "markdown",
      "metadata": {
        "id": "d_oxakLQzf97"
      },
      "source": [
        "e fim, temos nossos dados em nosso banco :D"
      ]
    },
    {
      "cell_type": "code",
      "metadata": {
        "colab": {
          "base_uri": "https://localhost:8080/"
        },
        "id": "Wx8QM8_-zeiU",
        "outputId": "74f0d032-7734-4c9d-de58-0489ceee6394"
      },
      "source": [
        "for p in Pesquisa.select():\n",
        "  print(f'Cliente: {p.cliente}, status da pesquisa: {p.status.get().status}')"
      ],
      "execution_count": 5,
      "outputs": [
        {
          "output_type": "stream",
          "text": [
            "Cliente: Cliente 1, status da pesquisa: aberto\n",
            "Cliente: Cliente 2, status da pesquisa: aberto\n",
            "Cliente: Cliente 3, status da pesquisa: aberto\n"
          ],
          "name": "stdout"
        }
      ]
    }
  ]
}